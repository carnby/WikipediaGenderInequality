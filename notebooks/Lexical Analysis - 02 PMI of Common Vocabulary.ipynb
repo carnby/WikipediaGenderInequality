{
 "cells": [
  {
   "cell_type": "markdown",
   "metadata": {},
   "source": [
    "# Words Associated to each Gender (through PMI)\n",
    "\n",
    "In this notebook we compute PMI scores for the vocabulary obtained in the previous notebook.\n",
    "\n",
    "By [Eduardo Graells-Garrido](http://carnby.github.io)."
   ]
  },
  {
   "cell_type": "code",
   "execution_count": 1,
   "metadata": {
    "collapsed": true
   },
   "outputs": [],
   "source": [
    "from __future__ import print_function, unicode_literals, division\n",
    "from cytoolz.dicttoolz import valmap\n",
    "from collections import Counter\n",
    "\n",
    "import pandas as pd\n",
    "import json \n",
    "import gzip\n",
    "import numpy as np\n",
    "import pandas as pd\n",
    "import dbpedia_config"
   ]
  },
  {
   "cell_type": "code",
   "execution_count": 2,
   "metadata": {
    "collapsed": true
   },
   "outputs": [],
   "source": [
    "target_folder = dbpedia_config.TARGET_FOLDER"
   ]
  },
  {
   "cell_type": "markdown",
   "metadata": {},
   "source": [
    "First, we load a list of English stopwords. We also add some stopwords that we found on the dataset while exploring word frequency. \n",
    "\n",
    "Note that we store a list of stopwords in the file `stopwords_en.txt` in our target folder (in the case of the English edition)."
   ]
  },
  {
   "cell_type": "code",
   "execution_count": 3,
   "metadata": {
    "collapsed": false
   },
   "outputs": [
    {
     "data": {
      "text/plain": [
       "252"
      ]
     },
     "execution_count": 3,
     "metadata": {},
     "output_type": "execute_result"
    }
   ],
   "source": [
    "with open('{0}/stopwords_{1}.txt'.format(target_folder, dbpedia_config.MAIN_LANGUAGE), 'r') as f:\n",
    "    stopwords = f.read().split()\n",
    "\n",
    "stopwords.extend('Monday Tuesday Wednesday Thursday Friday Saturday Sunday'.lower().split())\n",
    "stopwords.extend('January February March April May June July August September October November December'.lower().split())\n",
    "stopwords.extend('one two three four five six seven eight nine ten'.lower().split())\n",
    "\n",
    "len(stopwords)"
   ]
  },
  {
   "cell_type": "markdown",
   "metadata": {},
   "source": [
    "We also load our person data."
   ]
  },
  {
   "cell_type": "code",
   "execution_count": 4,
   "metadata": {
    "collapsed": false
   },
   "outputs": [
    {
     "data": {
      "text/html": [
       "<div>\n",
       "<table border=\"1\" class=\"dataframe\">\n",
       "  <thead>\n",
       "    <tr style=\"text-align: right;\">\n",
       "      <th></th>\n",
       "      <th>wikidata_entity</th>\n",
       "      <th>class</th>\n",
       "      <th>gender</th>\n",
       "      <th>edition_count</th>\n",
       "      <th>available_english</th>\n",
       "      <th>available_editions</th>\n",
       "      <th>birth_year</th>\n",
       "      <th>death_year</th>\n",
       "      <th>same_as</th>\n",
       "      <th>label</th>\n",
       "    </tr>\n",
       "    <tr>\n",
       "      <th>uri</th>\n",
       "      <th></th>\n",
       "      <th></th>\n",
       "      <th></th>\n",
       "      <th></th>\n",
       "      <th></th>\n",
       "      <th></th>\n",
       "      <th></th>\n",
       "      <th></th>\n",
       "      <th></th>\n",
       "      <th></th>\n",
       "    </tr>\n",
       "  </thead>\n",
       "  <tbody>\n",
       "    <tr>\n",
       "      <th>http://dbpedia.org/resource/Melanie_Paschke</th>\n",
       "      <td>Q452439</td>\n",
       "      <td>http://dbpedia.org/ontology/Athlete</td>\n",
       "      <td>female</td>\n",
       "      <td>8</td>\n",
       "      <td>True</td>\n",
       "      <td>en|fr|de|it|sv|wikidata|cs|pl</td>\n",
       "      <td>1970</td>\n",
       "      <td>NaN</td>\n",
       "      <td>http://fr.dbpedia.org/resource/Melanie_Paschke</td>\n",
       "      <td>Melanie Paschke</td>\n",
       "    </tr>\n",
       "    <tr>\n",
       "      <th>http://dbpedia.org/resource/A._Laurent</th>\n",
       "      <td>Q278894</td>\n",
       "      <td>http://dbpedia.org/ontology/Person</td>\n",
       "      <td>male</td>\n",
       "      <td>15</td>\n",
       "      <td>True</td>\n",
       "      <td>en|el|eo|hy|zh|pt|no|de|fr|wikidata|pl|uk|nds|...</td>\n",
       "      <td>NaN</td>\n",
       "      <td>NaN</td>\n",
       "      <td>http://pt.dbpedia.org/resource/A._Laurent</td>\n",
       "      <td>A. Laurent</td>\n",
       "    </tr>\n",
       "    <tr>\n",
       "      <th>http://dbpedia.org/resource/Addison_S._McClure</th>\n",
       "      <td>Q24217</td>\n",
       "      <td>http://dbpedia.org/ontology/Politician</td>\n",
       "      <td>male</td>\n",
       "      <td>3</td>\n",
       "      <td>True</td>\n",
       "      <td>en|de|wikidata</td>\n",
       "      <td>1839</td>\n",
       "      <td>1903</td>\n",
       "      <td>http://wikidata.dbpedia.org/resource/Q24217</td>\n",
       "      <td>Addison S. McClure</td>\n",
       "    </tr>\n",
       "    <tr>\n",
       "      <th>http://dbpedia.org/resource/Pina_Conti</th>\n",
       "      <td>Q7194774</td>\n",
       "      <td>http://dbpedia.org/ontology/Person</td>\n",
       "      <td>female</td>\n",
       "      <td>2</td>\n",
       "      <td>True</td>\n",
       "      <td>en|wikidata</td>\n",
       "      <td>NaN</td>\n",
       "      <td>NaN</td>\n",
       "      <td>http://wikidata.dbpedia.org/resource/Q7194774</td>\n",
       "      <td>Pina Conti</td>\n",
       "    </tr>\n",
       "    <tr>\n",
       "      <th>http://dbpedia.org/resource/Ri_Kum-suk</th>\n",
       "      <td>Q274956</td>\n",
       "      <td>http://dbpedia.org/ontology/Athlete</td>\n",
       "      <td>female</td>\n",
       "      <td>5</td>\n",
       "      <td>True</td>\n",
       "      <td>en|fr|de|wikidata|ja</td>\n",
       "      <td>1978</td>\n",
       "      <td>NaN</td>\n",
       "      <td>http://fr.dbpedia.org/resource/Ri_Kum-suk</td>\n",
       "      <td>Ri Kum-suk</td>\n",
       "    </tr>\n",
       "  </tbody>\n",
       "</table>\n",
       "</div>"
      ],
      "text/plain": [
       "                                               wikidata_entity  \\\n",
       "uri                                                              \n",
       "http://dbpedia.org/resource/Melanie_Paschke            Q452439   \n",
       "http://dbpedia.org/resource/A._Laurent                 Q278894   \n",
       "http://dbpedia.org/resource/Addison_S._McClure          Q24217   \n",
       "http://dbpedia.org/resource/Pina_Conti                Q7194774   \n",
       "http://dbpedia.org/resource/Ri_Kum-suk                 Q274956   \n",
       "\n",
       "                                                                                 class  \\\n",
       "uri                                                                                      \n",
       "http://dbpedia.org/resource/Melanie_Paschke        http://dbpedia.org/ontology/Athlete   \n",
       "http://dbpedia.org/resource/A._Laurent              http://dbpedia.org/ontology/Person   \n",
       "http://dbpedia.org/resource/Addison_S._McClure  http://dbpedia.org/ontology/Politician   \n",
       "http://dbpedia.org/resource/Pina_Conti              http://dbpedia.org/ontology/Person   \n",
       "http://dbpedia.org/resource/Ri_Kum-suk             http://dbpedia.org/ontology/Athlete   \n",
       "\n",
       "                                                gender  edition_count  \\\n",
       "uri                                                                     \n",
       "http://dbpedia.org/resource/Melanie_Paschke     female              8   \n",
       "http://dbpedia.org/resource/A._Laurent            male             15   \n",
       "http://dbpedia.org/resource/Addison_S._McClure    male              3   \n",
       "http://dbpedia.org/resource/Pina_Conti          female              2   \n",
       "http://dbpedia.org/resource/Ri_Kum-suk          female              5   \n",
       "\n",
       "                                               available_english  \\\n",
       "uri                                                                \n",
       "http://dbpedia.org/resource/Melanie_Paschke                 True   \n",
       "http://dbpedia.org/resource/A._Laurent                      True   \n",
       "http://dbpedia.org/resource/Addison_S._McClure              True   \n",
       "http://dbpedia.org/resource/Pina_Conti                      True   \n",
       "http://dbpedia.org/resource/Ri_Kum-suk                      True   \n",
       "\n",
       "                                                                               available_editions  \\\n",
       "uri                                                                                                 \n",
       "http://dbpedia.org/resource/Melanie_Paschke                         en|fr|de|it|sv|wikidata|cs|pl   \n",
       "http://dbpedia.org/resource/A._Laurent          en|el|eo|hy|zh|pt|no|de|fr|wikidata|pl|uk|nds|...   \n",
       "http://dbpedia.org/resource/Addison_S._McClure                                     en|de|wikidata   \n",
       "http://dbpedia.org/resource/Pina_Conti                                                en|wikidata   \n",
       "http://dbpedia.org/resource/Ri_Kum-suk                                       en|fr|de|wikidata|ja   \n",
       "\n",
       "                                                birth_year  death_year  \\\n",
       "uri                                                                      \n",
       "http://dbpedia.org/resource/Melanie_Paschke           1970         NaN   \n",
       "http://dbpedia.org/resource/A._Laurent                 NaN         NaN   \n",
       "http://dbpedia.org/resource/Addison_S._McClure        1839        1903   \n",
       "http://dbpedia.org/resource/Pina_Conti                 NaN         NaN   \n",
       "http://dbpedia.org/resource/Ri_Kum-suk                1978         NaN   \n",
       "\n",
       "                                                                                       same_as  \\\n",
       "uri                                                                                              \n",
       "http://dbpedia.org/resource/Melanie_Paschke     http://fr.dbpedia.org/resource/Melanie_Paschke   \n",
       "http://dbpedia.org/resource/A._Laurent               http://pt.dbpedia.org/resource/A._Laurent   \n",
       "http://dbpedia.org/resource/Addison_S._McClure     http://wikidata.dbpedia.org/resource/Q24217   \n",
       "http://dbpedia.org/resource/Pina_Conti           http://wikidata.dbpedia.org/resource/Q7194774   \n",
       "http://dbpedia.org/resource/Ri_Kum-suk               http://fr.dbpedia.org/resource/Ri_Kum-suk   \n",
       "\n",
       "                                                             label  \n",
       "uri                                                                 \n",
       "http://dbpedia.org/resource/Melanie_Paschke        Melanie Paschke  \n",
       "http://dbpedia.org/resource/A._Laurent                  A. Laurent  \n",
       "http://dbpedia.org/resource/Addison_S._McClure  Addison S. McClure  \n",
       "http://dbpedia.org/resource/Pina_Conti                  Pina Conti  \n",
       "http://dbpedia.org/resource/Ri_Kum-suk                  Ri Kum-suk  "
      ]
     },
     "execution_count": 4,
     "metadata": {},
     "output_type": "execute_result"
    }
   ],
   "source": [
    "person_data = pd.read_csv('{0}/person_data_en.csv.gz'.format(target_folder), encoding='utf-8', index_col='uri')"
   ]
  },
  {
   "cell_type": "code",
   "execution_count": 11,
   "metadata": {
    "collapsed": false
   },
   "outputs": [
    {
     "data": {
      "text/plain": [
       "male                  777429\n",
       "female                142381\n",
       "transgender female         2\n",
       "Name: gender, dtype: int64"
      ]
     },
     "execution_count": 11,
     "metadata": {},
     "output_type": "execute_result"
    }
   ],
   "source": [
    "N = person_data.gender.value_counts()\n",
    "N"
   ]
  },
  {
   "cell_type": "markdown",
   "metadata": {},
   "source": [
    "And our vocabulary. We will consider only words that appear in both genders (so it makes sense to compare association)."
   ]
  },
  {
   "cell_type": "code",
   "execution_count": 8,
   "metadata": {
    "collapsed": false
   },
   "outputs": [
    {
     "data": {
      "text/plain": [
       "277999"
      ]
     },
     "execution_count": 8,
     "metadata": {},
     "output_type": "execute_result"
    }
   ],
   "source": [
    "with gzip.open('{0}/vocabulary.json.gz'.format(target_folder), 'rb') as f:\n",
    "    vocabulary = valmap(Counter, json.load(f))\n",
    "\n",
    "common_words = list(set(vocabulary['male'].keys()) & set(vocabulary['female'].keys()))\n",
    "len(common_words)"
   ]
  },
  {
   "cell_type": "code",
   "execution_count": 20,
   "metadata": {
    "collapsed": true
   },
   "outputs": [],
   "source": [
    "def word_iter():\n",
    "     for w in common_words:\n",
    "        if w in stopwords:\n",
    "            continue\n",
    "        yield {'male': vocabulary['male'][w], 'female': vocabulary['female'][w], 'word': w}\n",
    "    \n",
    "words = pd.DataFrame.from_records(word_iter(), index='word')"
   ]
  },
  {
   "cell_type": "markdown",
   "metadata": {},
   "source": [
    "Now we estimate PMI. Recall that PMI is:\n",
    "\n",
    "$$\\mbox{PMI}(c, w) = \\log \\frac{p(c, w)}{p(c) p(w)}$$\n",
    "\n",
    "Where c is a class (or gender) and w is a word (or bigram in our case). To normalize PMI we can divide by $-\\log p(c,w)$."
   ]
  },
  {
   "cell_type": "code",
   "execution_count": 22,
   "metadata": {
    "collapsed": false
   },
   "outputs": [
    {
     "data": {
      "text/plain": [
       "male                  0.845204\n",
       "female                0.154794\n",
       "transgender female    0.000002\n",
       "Name: gender, dtype: float64"
      ]
     },
     "execution_count": 22,
     "metadata": {},
     "output_type": "execute_result"
    }
   ],
   "source": [
    "p_c = N / N.sum()\n",
    "p_c"
   ]
  },
  {
   "cell_type": "code",
   "execution_count": 23,
   "metadata": {
    "collapsed": false
   },
   "outputs": [
    {
     "data": {
      "text/plain": [
       "word\n",
       "biennials           0.000047\n",
       "verplank            0.000010\n",
       "soestdijk           0.000007\n",
       "megumi_yokota       0.000008\n",
       "kwame_kilpatrick    0.000008\n",
       "Name: p_w, dtype: float64"
      ]
     },
     "execution_count": 23,
     "metadata": {},
     "output_type": "execute_result"
    }
   ],
   "source": [
    "words['p_w'] = (words['male'] + words['female']) / N.sum()\n",
    "words['p_w'].head(5)"
   ]
  },
  {
   "cell_type": "code",
   "execution_count": 30,
   "metadata": {
    "collapsed": true
   },
   "outputs": [],
   "source": [
    "words['p_male_w'] = words['male'] / N.sum()\n",
    "words['p_female_w'] = words['female'] / N.sum()"
   ]
  },
  {
   "cell_type": "code",
   "execution_count": 31,
   "metadata": {
    "collapsed": false
   },
   "outputs": [],
   "source": [
    "words['pmi_male'] = np.log(words['p_male_w'] / (words['p_w'] * p_c['male'])) / -np.log(words['p_male_w'])\n",
    "words['pmi_female'] = np.log(words['p_female_w'] / (words['p_w'] * p_c['female'])) / -np.log(words['p_female_w'])"
   ]
  },
  {
   "cell_type": "code",
   "execution_count": 32,
   "metadata": {
    "collapsed": false
   },
   "outputs": [
    {
     "data": {
      "text/html": [
       "<div>\n",
       "<table border=\"1\" class=\"dataframe\">\n",
       "  <thead>\n",
       "    <tr style=\"text-align: right;\">\n",
       "      <th></th>\n",
       "      <th>female</th>\n",
       "      <th>male</th>\n",
       "      <th>p_w</th>\n",
       "      <th>p_male_y</th>\n",
       "      <th>p_female_y</th>\n",
       "      <th>p_male_w</th>\n",
       "      <th>p_female_w</th>\n",
       "      <th>pmi_male</th>\n",
       "      <th>pmi_female</th>\n",
       "    </tr>\n",
       "    <tr>\n",
       "      <th>word</th>\n",
       "      <th></th>\n",
       "      <th></th>\n",
       "      <th></th>\n",
       "      <th></th>\n",
       "      <th></th>\n",
       "      <th></th>\n",
       "      <th></th>\n",
       "      <th></th>\n",
       "      <th></th>\n",
       "    </tr>\n",
       "  </thead>\n",
       "  <tbody>\n",
       "    <tr>\n",
       "      <th>biennials</th>\n",
       "      <td>7</td>\n",
       "      <td>36</td>\n",
       "      <td>0.000047</td>\n",
       "      <td>0.000039</td>\n",
       "      <td>0.000008</td>\n",
       "      <td>0.000039</td>\n",
       "      <td>0.000008</td>\n",
       "      <td>-0.000937</td>\n",
       "      <td>0.004274</td>\n",
       "    </tr>\n",
       "    <tr>\n",
       "      <th>verplank</th>\n",
       "      <td>1</td>\n",
       "      <td>8</td>\n",
       "      <td>0.000010</td>\n",
       "      <td>0.000009</td>\n",
       "      <td>0.000001</td>\n",
       "      <td>0.000009</td>\n",
       "      <td>0.000001</td>\n",
       "      <td>0.004325</td>\n",
       "      <td>-0.024145</td>\n",
       "    </tr>\n",
       "    <tr>\n",
       "      <th>soestdijk</th>\n",
       "      <td>2</td>\n",
       "      <td>4</td>\n",
       "      <td>0.000007</td>\n",
       "      <td>0.000004</td>\n",
       "      <td>0.000002</td>\n",
       "      <td>0.000004</td>\n",
       "      <td>0.000002</td>\n",
       "      <td>-0.019220</td>\n",
       "      <td>0.058828</td>\n",
       "    </tr>\n",
       "    <tr>\n",
       "      <th>megumi_yokota</th>\n",
       "      <td>5</td>\n",
       "      <td>2</td>\n",
       "      <td>0.000008</td>\n",
       "      <td>0.000002</td>\n",
       "      <td>0.000005</td>\n",
       "      <td>0.000002</td>\n",
       "      <td>0.000005</td>\n",
       "      <td>-0.083182</td>\n",
       "      <td>0.126145</td>\n",
       "    </tr>\n",
       "    <tr>\n",
       "      <th>kwame_kilpatrick</th>\n",
       "      <td>3</td>\n",
       "      <td>4</td>\n",
       "      <td>0.000008</td>\n",
       "      <td>0.000004</td>\n",
       "      <td>0.000003</td>\n",
       "      <td>0.000004</td>\n",
       "      <td>0.000003</td>\n",
       "      <td>-0.031707</td>\n",
       "      <td>0.080609</td>\n",
       "    </tr>\n",
       "  </tbody>\n",
       "</table>\n",
       "</div>"
      ],
      "text/plain": [
       "                  female  male       p_w  p_male_y  p_female_y  p_male_w  \\\n",
       "word                                                                       \n",
       "biennials              7    36  0.000047  0.000039    0.000008  0.000039   \n",
       "verplank               1     8  0.000010  0.000009    0.000001  0.000009   \n",
       "soestdijk              2     4  0.000007  0.000004    0.000002  0.000004   \n",
       "megumi_yokota          5     2  0.000008  0.000002    0.000005  0.000002   \n",
       "kwame_kilpatrick       3     4  0.000008  0.000004    0.000003  0.000004   \n",
       "\n",
       "                  p_female_w  pmi_male  pmi_female  \n",
       "word                                                \n",
       "biennials           0.000008 -0.000937    0.004274  \n",
       "verplank            0.000001  0.004325   -0.024145  \n",
       "soestdijk           0.000002 -0.019220    0.058828  \n",
       "megumi_yokota       0.000005 -0.083182    0.126145  \n",
       "kwame_kilpatrick    0.000003 -0.031707    0.080609  "
      ]
     },
     "execution_count": 32,
     "metadata": {},
     "output_type": "execute_result"
    }
   ],
   "source": [
    "words.head()"
   ]
  },
  {
   "cell_type": "markdown",
   "metadata": {},
   "source": [
    "Now we are ready to explore PMI. Recall that PMI overweights words that have extremely low frequencies. We need to set a threshold for it. For instance, in our [previous paper](http://arxiv.org/abs/1502.02341) we considered 1% of biographies as threshold. But this time we have more biographies, and with 1% we don't have 200 words for women. \n",
    "\n",
    "Hence, this time we lower the bar up to 0.1%."
   ]
  },
  {
   "cell_type": "code",
   "execution_count": 84,
   "metadata": {
    "collapsed": true
   },
   "outputs": [],
   "source": [
    "min_p = 0.001"
   ]
  },
  {
   "cell_type": "code",
   "execution_count": 91,
   "metadata": {
    "collapsed": false
   },
   "outputs": [
    {
     "data": {
      "text/html": [
       "<div>\n",
       "<table border=\"1\" class=\"dataframe\">\n",
       "  <thead>\n",
       "    <tr style=\"text-align: right;\">\n",
       "      <th></th>\n",
       "      <th>female</th>\n",
       "      <th>male</th>\n",
       "      <th>p_w</th>\n",
       "      <th>p_male_y</th>\n",
       "      <th>p_female_y</th>\n",
       "      <th>p_male_w</th>\n",
       "      <th>p_female_w</th>\n",
       "      <th>pmi_male</th>\n",
       "      <th>pmi_female</th>\n",
       "    </tr>\n",
       "    <tr>\n",
       "      <th>word</th>\n",
       "      <th></th>\n",
       "      <th></th>\n",
       "      <th></th>\n",
       "      <th></th>\n",
       "      <th></th>\n",
       "      <th></th>\n",
       "      <th></th>\n",
       "      <th></th>\n",
       "      <th></th>\n",
       "    </tr>\n",
       "  </thead>\n",
       "  <tbody>\n",
       "    <tr>\n",
       "      <th>actress</th>\n",
       "      <td>33469</td>\n",
       "      <td>3461</td>\n",
       "      <td>0.040150</td>\n",
       "      <td>0.003763</td>\n",
       "      <td>0.036387</td>\n",
       "      <td>0.003763</td>\n",
       "      <td>0.036387</td>\n",
       "      <td>-0.393954</td>\n",
       "      <td>0.533343</td>\n",
       "    </tr>\n",
       "    <tr>\n",
       "      <th>women_s</th>\n",
       "      <td>19521</td>\n",
       "      <td>2256</td>\n",
       "      <td>0.023675</td>\n",
       "      <td>0.002453</td>\n",
       "      <td>0.021223</td>\n",
       "      <td>0.002453</td>\n",
       "      <td>0.021223</td>\n",
       "      <td>-0.349232</td>\n",
       "      <td>0.455864</td>\n",
       "    </tr>\n",
       "    <tr>\n",
       "      <th>female</th>\n",
       "      <td>9627</td>\n",
       "      <td>1509</td>\n",
       "      <td>0.012107</td>\n",
       "      <td>0.001641</td>\n",
       "      <td>0.010466</td>\n",
       "      <td>0.001641</td>\n",
       "      <td>0.010466</td>\n",
       "      <td>-0.285457</td>\n",
       "      <td>0.377238</td>\n",
       "    </tr>\n",
       "    <tr>\n",
       "      <th>her_husband</th>\n",
       "      <td>7250</td>\n",
       "      <td>1002</td>\n",
       "      <td>0.008971</td>\n",
       "      <td>0.001089</td>\n",
       "      <td>0.007882</td>\n",
       "      <td>0.001089</td>\n",
       "      <td>0.007882</td>\n",
       "      <td>-0.284408</td>\n",
       "      <td>0.358486</td>\n",
       "    </tr>\n",
       "    <tr>\n",
       "      <th>women</th>\n",
       "      <td>10849</td>\n",
       "      <td>3583</td>\n",
       "      <td>0.015690</td>\n",
       "      <td>0.003895</td>\n",
       "      <td>0.011795</td>\n",
       "      <td>0.003895</td>\n",
       "      <td>0.011795</td>\n",
       "      <td>-0.220814</td>\n",
       "      <td>0.355913</td>\n",
       "    </tr>\n",
       "    <tr>\n",
       "      <th>woman</th>\n",
       "      <td>7477</td>\n",
       "      <td>2894</td>\n",
       "      <td>0.011275</td>\n",
       "      <td>0.003146</td>\n",
       "      <td>0.008129</td>\n",
       "      <td>0.003146</td>\n",
       "      <td>0.008129</td>\n",
       "      <td>-0.192344</td>\n",
       "      <td>0.319695</td>\n",
       "    </tr>\n",
       "    <tr>\n",
       "      <th>first_woman</th>\n",
       "      <td>3077</td>\n",
       "      <td>137</td>\n",
       "      <td>0.003494</td>\n",
       "      <td>0.000149</td>\n",
       "      <td>0.003345</td>\n",
       "      <td>0.000149</td>\n",
       "      <td>0.003345</td>\n",
       "      <td>-0.338985</td>\n",
       "      <td>0.319655</td>\n",
       "    </tr>\n",
       "    <tr>\n",
       "      <th>miss</th>\n",
       "      <td>5032</td>\n",
       "      <td>1368</td>\n",
       "      <td>0.006958</td>\n",
       "      <td>0.001487</td>\n",
       "      <td>0.005471</td>\n",
       "      <td>0.001487</td>\n",
       "      <td>0.005471</td>\n",
       "      <td>-0.211152</td>\n",
       "      <td>0.312034</td>\n",
       "    </tr>\n",
       "    <tr>\n",
       "      <th>pageant</th>\n",
       "      <td>1898</td>\n",
       "      <td>158</td>\n",
       "      <td>0.002235</td>\n",
       "      <td>0.000172</td>\n",
       "      <td>0.002063</td>\n",
       "      <td>0.000172</td>\n",
       "      <td>0.002063</td>\n",
       "      <td>-0.276578</td>\n",
       "      <td>0.288791</td>\n",
       "    </tr>\n",
       "    <tr>\n",
       "      <th>feminist</th>\n",
       "      <td>1889</td>\n",
       "      <td>169</td>\n",
       "      <td>0.002237</td>\n",
       "      <td>0.000184</td>\n",
       "      <td>0.002054</td>\n",
       "      <td>0.000184</td>\n",
       "      <td>0.002054</td>\n",
       "      <td>-0.271031</td>\n",
       "      <td>0.287644</td>\n",
       "    </tr>\n",
       "  </tbody>\n",
       "</table>\n",
       "</div>"
      ],
      "text/plain": [
       "             female  male       p_w  p_male_y  p_female_y  p_male_w  \\\n",
       "word                                                                  \n",
       "actress       33469  3461  0.040150  0.003763    0.036387  0.003763   \n",
       "women_s       19521  2256  0.023675  0.002453    0.021223  0.002453   \n",
       "female         9627  1509  0.012107  0.001641    0.010466  0.001641   \n",
       "her_husband    7250  1002  0.008971  0.001089    0.007882  0.001089   \n",
       "women         10849  3583  0.015690  0.003895    0.011795  0.003895   \n",
       "woman          7477  2894  0.011275  0.003146    0.008129  0.003146   \n",
       "first_woman    3077   137  0.003494  0.000149    0.003345  0.000149   \n",
       "miss           5032  1368  0.006958  0.001487    0.005471  0.001487   \n",
       "pageant        1898   158  0.002235  0.000172    0.002063  0.000172   \n",
       "feminist       1889   169  0.002237  0.000184    0.002054  0.000184   \n",
       "\n",
       "             p_female_w  pmi_male  pmi_female  \n",
       "word                                           \n",
       "actress        0.036387 -0.393954    0.533343  \n",
       "women_s        0.021223 -0.349232    0.455864  \n",
       "female         0.010466 -0.285457    0.377238  \n",
       "her_husband    0.007882 -0.284408    0.358486  \n",
       "women          0.011795 -0.220814    0.355913  \n",
       "woman          0.008129 -0.192344    0.319695  \n",
       "first_woman    0.003345 -0.338985    0.319655  \n",
       "miss           0.005471 -0.211152    0.312034  \n",
       "pageant        0.002063 -0.276578    0.288791  \n",
       "feminist       0.002054 -0.271031    0.287644  "
      ]
     },
     "execution_count": 91,
     "metadata": {},
     "output_type": "execute_result"
    }
   ],
   "source": [
    "top_female = words[words.p_w > min_p].sort_values(by=['pmi_female'], ascending=False)\n",
    "top_female.head(10)"
   ]
  },
  {
   "cell_type": "code",
   "execution_count": 92,
   "metadata": {
    "collapsed": false
   },
   "outputs": [
    {
     "data": {
      "text/html": [
       "<div>\n",
       "<table border=\"1\" class=\"dataframe\">\n",
       "  <thead>\n",
       "    <tr style=\"text-align: right;\">\n",
       "      <th></th>\n",
       "      <th>female</th>\n",
       "      <th>male</th>\n",
       "      <th>p_w</th>\n",
       "      <th>p_male_y</th>\n",
       "      <th>p_female_y</th>\n",
       "      <th>p_male_w</th>\n",
       "      <th>p_female_w</th>\n",
       "      <th>pmi_male</th>\n",
       "      <th>pmi_female</th>\n",
       "    </tr>\n",
       "    <tr>\n",
       "      <th>word</th>\n",
       "      <th></th>\n",
       "      <th></th>\n",
       "      <th></th>\n",
       "      <th></th>\n",
       "      <th></th>\n",
       "      <th></th>\n",
       "      <th></th>\n",
       "      <th></th>\n",
       "      <th></th>\n",
       "    </tr>\n",
       "  </thead>\n",
       "  <tbody>\n",
       "    <tr>\n",
       "      <th>played</th>\n",
       "      <td>12268</td>\n",
       "      <td>181306</td>\n",
       "      <td>0.210450</td>\n",
       "      <td>0.197112</td>\n",
       "      <td>0.013338</td>\n",
       "      <td>0.197112</td>\n",
       "      <td>0.013338</td>\n",
       "      <td>0.063242</td>\n",
       "      <td>-0.206849</td>\n",
       "    </tr>\n",
       "    <tr>\n",
       "      <th>football</th>\n",
       "      <td>742</td>\n",
       "      <td>41227</td>\n",
       "      <td>0.045628</td>\n",
       "      <td>0.044821</td>\n",
       "      <td>0.000807</td>\n",
       "      <td>0.044821</td>\n",
       "      <td>0.000807</td>\n",
       "      <td>0.048417</td>\n",
       "      <td>-0.304619</td>\n",
       "    </tr>\n",
       "    <tr>\n",
       "      <th>footballer_who</th>\n",
       "      <td>158</td>\n",
       "      <td>29429</td>\n",
       "      <td>0.032166</td>\n",
       "      <td>0.031995</td>\n",
       "      <td>0.000172</td>\n",
       "      <td>0.031995</td>\n",
       "      <td>0.000172</td>\n",
       "      <td>0.047302</td>\n",
       "      <td>-0.388361</td>\n",
       "    </tr>\n",
       "    <tr>\n",
       "      <th>served</th>\n",
       "      <td>10066</td>\n",
       "      <td>125870</td>\n",
       "      <td>0.147787</td>\n",
       "      <td>0.136843</td>\n",
       "      <td>0.010944</td>\n",
       "      <td>0.136843</td>\n",
       "      <td>0.010944</td>\n",
       "      <td>0.045875</td>\n",
       "      <td>-0.163313</td>\n",
       "    </tr>\n",
       "    <tr>\n",
       "      <th>league</th>\n",
       "      <td>3429</td>\n",
       "      <td>65122</td>\n",
       "      <td>0.074527</td>\n",
       "      <td>0.070799</td>\n",
       "      <td>0.003728</td>\n",
       "      <td>0.070799</td>\n",
       "      <td>0.003728</td>\n",
       "      <td>0.044134</td>\n",
       "      <td>-0.202015</td>\n",
       "    </tr>\n",
       "    <tr>\n",
       "      <th>major_league</th>\n",
       "      <td>82</td>\n",
       "      <td>20595</td>\n",
       "      <td>0.022480</td>\n",
       "      <td>0.022390</td>\n",
       "      <td>0.000089</td>\n",
       "      <td>0.022390</td>\n",
       "      <td>0.000089</td>\n",
       "      <td>0.043221</td>\n",
       "      <td>-0.392956</td>\n",
       "    </tr>\n",
       "    <tr>\n",
       "      <th>john</th>\n",
       "      <td>5018</td>\n",
       "      <td>74777</td>\n",
       "      <td>0.086751</td>\n",
       "      <td>0.081296</td>\n",
       "      <td>0.005455</td>\n",
       "      <td>0.081296</td>\n",
       "      <td>0.005455</td>\n",
       "      <td>0.041132</td>\n",
       "      <td>-0.172854</td>\n",
       "    </tr>\n",
       "    <tr>\n",
       "      <th>football_player</th>\n",
       "      <td>449</td>\n",
       "      <td>23833</td>\n",
       "      <td>0.026399</td>\n",
       "      <td>0.025911</td>\n",
       "      <td>0.000488</td>\n",
       "      <td>0.025911</td>\n",
       "      <td>0.000488</td>\n",
       "      <td>0.040928</td>\n",
       "      <td>-0.278667</td>\n",
       "    </tr>\n",
       "    <tr>\n",
       "      <th>first_class</th>\n",
       "      <td>195</td>\n",
       "      <td>18834</td>\n",
       "      <td>0.020688</td>\n",
       "      <td>0.020476</td>\n",
       "      <td>0.000212</td>\n",
       "      <td>0.020476</td>\n",
       "      <td>0.000212</td>\n",
       "      <td>0.040601</td>\n",
       "      <td>-0.320970</td>\n",
       "    </tr>\n",
       "    <tr>\n",
       "      <th>son</th>\n",
       "      <td>4648</td>\n",
       "      <td>68820</td>\n",
       "      <td>0.079873</td>\n",
       "      <td>0.074820</td>\n",
       "      <td>0.005053</td>\n",
       "      <td>0.074820</td>\n",
       "      <td>0.005053</td>\n",
       "      <td>0.039658</td>\n",
       "      <td>-0.169212</td>\n",
       "    </tr>\n",
       "  </tbody>\n",
       "</table>\n",
       "</div>"
      ],
      "text/plain": [
       "                 female    male       p_w  p_male_y  p_female_y  p_male_w  \\\n",
       "word                                                                        \n",
       "played            12268  181306  0.210450  0.197112    0.013338  0.197112   \n",
       "football            742   41227  0.045628  0.044821    0.000807  0.044821   \n",
       "footballer_who      158   29429  0.032166  0.031995    0.000172  0.031995   \n",
       "served            10066  125870  0.147787  0.136843    0.010944  0.136843   \n",
       "league             3429   65122  0.074527  0.070799    0.003728  0.070799   \n",
       "major_league         82   20595  0.022480  0.022390    0.000089  0.022390   \n",
       "john               5018   74777  0.086751  0.081296    0.005455  0.081296   \n",
       "football_player     449   23833  0.026399  0.025911    0.000488  0.025911   \n",
       "first_class         195   18834  0.020688  0.020476    0.000212  0.020476   \n",
       "son                4648   68820  0.079873  0.074820    0.005053  0.074820   \n",
       "\n",
       "                 p_female_w  pmi_male  pmi_female  \n",
       "word                                               \n",
       "played             0.013338  0.063242   -0.206849  \n",
       "football           0.000807  0.048417   -0.304619  \n",
       "footballer_who     0.000172  0.047302   -0.388361  \n",
       "served             0.010944  0.045875   -0.163313  \n",
       "league             0.003728  0.044134   -0.202015  \n",
       "major_league       0.000089  0.043221   -0.392956  \n",
       "john               0.005455  0.041132   -0.172854  \n",
       "football_player    0.000488  0.040928   -0.278667  \n",
       "first_class        0.000212  0.040601   -0.320970  \n",
       "son                0.005053  0.039658   -0.169212  "
      ]
     },
     "execution_count": 92,
     "metadata": {},
     "output_type": "execute_result"
    }
   ],
   "source": [
    "top_male = words[words.p_w > min_p].sort_values(by=['pmi_male'], ascending=False)\n",
    "top_male.head(10)"
   ]
  },
  {
   "cell_type": "markdown",
   "metadata": {},
   "source": [
    "What we will do is to save both lists of top-200 words and then manually annotate them according to the following categories:\n",
    "\n",
    " * F: Family\n",
    " * R: Relationship\n",
    " * G: Gender\n",
    " * O: Other\n",
    " \n",
    "We will add that categorization to the column \"cat\", and we will process it in the following notebook."
   ]
  },
  {
   "cell_type": "code",
   "execution_count": 93,
   "metadata": {
    "collapsed": true
   },
   "outputs": [],
   "source": [
    "top_male.head(200).to_csv('{0}/top-200-pmi-male.csv'.format(target_folder), encoding='utf-8')\n",
    "top_female.head(200).to_csv('{0}/top-200-pmi-female.csv'.format(target_folder), encoding='utf-8')"
   ]
  }
 ],
 "metadata": {
  "kernelspec": {
   "display_name": "Python 2",
   "language": "python",
   "name": "python2"
  },
  "language_info": {
   "codemirror_mode": {
    "name": "ipython",
    "version": 2
   },
   "file_extension": ".py",
   "mimetype": "text/x-python",
   "name": "python",
   "nbconvert_exporter": "python",
   "pygments_lexer": "ipython2",
   "version": "2.7.6"
  }
 },
 "nbformat": 4,
 "nbformat_minor": 0
}
