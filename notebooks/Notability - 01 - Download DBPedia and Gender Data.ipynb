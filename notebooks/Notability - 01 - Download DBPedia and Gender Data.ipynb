{
 "cells": [
  {
   "cell_type": "markdown",
   "metadata": {},
   "source": [
    "# Download Data\n",
    "\n",
    "This notebook downloads the necessary data to replicate the results of our paper on Gender Inequalities on Wikipedia.\n",
    "\n",
    "Note that we use a file named `dbpedia_config.py` where we set which language editions we will we study, as well as where to save and load data files.\n",
    "\n",
    "By [Eduardo Graells-Garrido](http://carnby.github.io)."
   ]
  },
  {
   "cell_type": "code",
   "execution_count": 1,
   "metadata": {
    "collapsed": false
   },
   "outputs": [
    {
     "name": "stdout",
     "output_type": "stream",
     "text": [
      "# The DBpedia editions we will consider\r\n",
      "MAIN_LANGUAGE = 'en'\r\n",
      "LANGUAGES = 'en|bg|ca|cs|de|es|eu|fr|hu|id|it|ja|ko|nl|pl|pt|ru|tr|ar|el'.split('|')\r\n",
      "\r\n",
      "# Where are we going to download the data files\r\n",
      "#DATA_FOLDER = '/home/egraells/resources/dbpedia'\r\n",
      "DATA_FOLDER = '/media/egraells/113A88F901102CA6/data/dbpedia_2015'\r\n",
      "\r\n",
      "# Folder to store analysis results\r\n",
      "TARGET_FOLDER = '/home/egraells/phd/notebooks/pajaritos/person_results'\r\n",
      "\r\n",
      "# This is used when crawling WikiData.\r\n",
      "QUERY_WIKIDATA_GENDER = False\r\n",
      "YOUR_EMAIL = 'mail@example.com'"
     ]
    }
   ],
   "source": [
    "!cat dbpedia_config.py"
   ]
  },
  {
   "cell_type": "code",
   "execution_count": 2,
   "metadata": {
    "collapsed": true
   },
   "outputs": [],
   "source": [
    "import subprocess\n",
    "import os\n",
    "import dbpedia_config"
   ]
  },
  {
   "cell_type": "code",
   "execution_count": 3,
   "metadata": {
    "collapsed": false
   },
   "outputs": [],
   "source": [
    "target = dbpedia_config.DATA_FOLDER\n",
    "languages = dbpedia_config.LANGUAGES"
   ]
  },
  {
   "cell_type": "code",
   "execution_count": 4,
   "metadata": {
    "collapsed": true
   },
   "outputs": [],
   "source": [
    "# Ontology\n",
    "# note that previously (2014 version and earlier) this was in bzip format.\n",
    "if not os.path.exists('{0}/dbpedia.owl'.format(target)):\n",
    "    subprocess.call(['/usr/bin/wget', \n",
    "        'http://downloads.dbpedia.org/2015-10/dbpedia_2015-10.owl',\n",
    "        '-O', '{0}/dbpedia.owl'.format(target)], \n",
    "        stdout=None, stderr=None)"
   ]
  },
  {
   "cell_type": "code",
   "execution_count": 5,
   "metadata": {
    "collapsed": true
   },
   "outputs": [],
   "source": [
    "# current version: http://wiki.dbpedia.org/Downloads2015-04\n",
    "db_uri = 'http://downloads.dbpedia.org/2015-10/core-i18n'"
   ]
  },
  {
   "cell_type": "code",
   "execution_count": 16,
   "metadata": {
    "collapsed": false
   },
   "outputs": [],
   "source": [
    "for lang in languages:\n",
    "    if not os.path.exists('{0}/instance_types_{1}.ttl.bz2'.format(target, lang)):\n",
    "        subprocess.call(['/usr/bin/wget', \n",
    "            '{1}/{0}/instance_types_{0}.ttl.bz2'.format(lang, db_uri),\n",
    "            '-O', '{0}/instance_types_{1}.ttl.bz2'.format(target, lang)], \n",
    "            stdout=None, stderr=None)\n",
    "    \n",
    "    if not os.path.exists('{0}/interlanguage_links_{1}.ttl.bz2'.format(target, lang)):\n",
    "        subprocess.call(['/usr/bin/wget', \n",
    "            '{1}/{0}/interlanguage_links_{0}.ttl.bz2'.format(lang, db_uri),\n",
    "            '-O', '{0}/interlanguage_links_{1}.ttl.bz2'.format(target, lang)], \n",
    "            stdout=None, stderr=None)\n",
    "    \n",
    "    if not os.path.exists('{0}/labels_{1}.ttl.bz2'.format(target, lang)):\n",
    "        subprocess.call(['/usr/bin/wget', \n",
    "            '{1}/{0}/labels_{0}.ttl.bz2'.format(lang, db_uri),\n",
    "            '-O', '{0}/labels_{1}.ttl.bz2'.format(target, lang)], \n",
    "            stdout=None, stderr=None)\n",
    "        \n",
    "    if not os.path.exists('{0}/mappingbased_literals_{1}.ttl.bz2'.format(target, lang)):\n",
    "        subprocess.call(['/usr/bin/wget', \n",
    "            '{1}/{0}/mappingbased_literals_{0}.ttl.bz2'.format(lang, db_uri),\n",
    "            '-O', '{0}/mappingbased_literals_{1}.ttl.bz2'.format(target, lang)], \n",
    "            stdout=None, stderr=None)\n",
    "        \n",
    "    if not os.path.exists('{0}/mappingbased_objects_{1}.ttl.bz2'.format(target, lang)):\n",
    "        subprocess.call(['/usr/bin/wget', \n",
    "            '{1}/{0}/mappingbased_objects_{0}.ttl.bz2'.format(lang, db_uri),\n",
    "            '-O', '{0}/mappingbased_objects_{1}.ttl.bz2'.format(target, lang)], \n",
    "            stdout=None, stderr=None)"
   ]
  },
  {
   "cell_type": "code",
   "execution_count": 7,
   "metadata": {
    "collapsed": true
   },
   "outputs": [],
   "source": [
    "# http://oldwiki.dbpedia.org/Datasets/NLP#h172-7\n",
    "dbpedia_gender = 'http://wifo5-04.informatik.uni-mannheim.de/downloads/datasets/genders_en.nt.bz2'\n",
    "\n",
    "if not os.path.exists('{0}/genders_en.nt.bz2'.format(target)):\n",
    "    subprocess.call(['/usr/bin/wget', \n",
    "        dbpedia_gender,\n",
    "        '-O', '{0}/genders_en.nt.bz2'.format(target)], \n",
    "        stdout=None, stderr=None)"
   ]
  },
  {
   "cell_type": "code",
   "execution_count": 8,
   "metadata": {
    "collapsed": true
   },
   "outputs": [],
   "source": [
    "# http://www.davidbamman.com/?p=12\n",
    "# note that, in previous versions, this was a text file. now it's a bzipped file with n-triplets.\n",
    "wikipedia_gender = 'http://www.ark.cs.cmu.edu/bio/data/wiki.genders.txt'\n",
    "\n",
    "if not os.path.exists('{0}/wiki.genders.txt'.format(target)):\n",
    "    subprocess.call(['/usr/bin/wget', \n",
    "        dbpedia_gender,\n",
    "        '-O', '{0}/wiki.genders.txt'.format(target)], \n",
    "        stdout=None, stderr=None)"
   ]
  },
  {
   "cell_type": "code",
   "execution_count": 11,
   "metadata": {
    "collapsed": true
   },
   "outputs": [],
   "source": [
    "if not os.path.exists('{0}/long_abstracts_{1}.nt.bz2'.format(target, dbpedia_config.MAIN_LANGUAGE)):\n",
    "    subprocess.call(['/usr/bin/wget', \n",
    "        '{1}/{0}/long_abstracts_{0}.ttl.bz2'.format(dbpedia_config.MAIN_LANGUAGE, db_uri),\n",
    "        '-O', '{0}/long_abstracts_{1}.ttl.bz2'.format(target, dbpedia_config.MAIN_LANGUAGE)], \n",
    "        stdout=None, stderr=None)"
   ]
  },
  {
   "cell_type": "code",
   "execution_count": 12,
   "metadata": {
    "collapsed": true
   },
   "outputs": [],
   "source": [
    "# network data for english only\n",
    "if not os.path.exists('{0}/page_links_{1}.ttl.bz2'.format(target, dbpedia_config.MAIN_LANGUAGE)):\n",
    "    subprocess.call(['/usr/bin/wget', \n",
    "        '{1}/{0}/page_links_{0}.nt.bz2'.format(dbpedia_config.MAIN_LANGUAGE, db_uri),\n",
    "        '-O', '{0}/page_links_{1}.ttl.bz2'.format(target, dbpedia_config.MAIN_LANGUAGE)], \n",
    "        stdout=None, stderr=None)"
   ]
  },
  {
   "cell_type": "code",
   "execution_count": null,
   "metadata": {
    "collapsed": true
   },
   "outputs": [],
   "source": []
  }
 ],
 "metadata": {
  "kernelspec": {
   "display_name": "Python 3",
   "language": "python",
   "name": "python3"
  },
  "language_info": {
   "codemirror_mode": {
    "name": "ipython",
    "version": 3
   },
   "file_extension": ".py",
   "mimetype": "text/x-python",
   "name": "python",
   "nbconvert_exporter": "python",
   "pygments_lexer": "ipython3",
   "version": "3.4.3"
  }
 },
 "nbformat": 4,
 "nbformat_minor": 0
}
