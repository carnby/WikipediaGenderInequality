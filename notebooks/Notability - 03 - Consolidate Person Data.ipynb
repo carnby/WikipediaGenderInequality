{
 "cells": [
  {
   "cell_type": "markdown",
   "metadata": {},
   "source": [
    "In this notebook we consolidate person data from all editions into one file, by removing duplicates."
   ]
  },
  {
   "cell_type": "code",
   "execution_count": null,
   "metadata": {
    "collapsed": true
   },
   "outputs": [],
   "source": [
    "from __future__ import print_function, unicode_literals\n",
    "\n",
    "import gzip\n",
    "import pandas as pd\n",
    "import seaborn as sns\n",
    "import matplotlib.pyplot as plt\n",
    "import numpy as np\n",
    "import dbpedia_config\n",
    "\n",
    "sns.set_context('poster', font_scale=0.8)\n",
    "%matplotlib inline"
   ]
  },
  {
   "cell_type": "code",
   "execution_count": null,
   "metadata": {
    "collapsed": true
   },
   "outputs": [],
   "source": [
    "target_folder = dbpedia_config.TARGET_FOLDER\n",
    "languages = dbpedia_config.LANGUAGES"
   ]
  },
  {
   "cell_type": "code",
   "execution_count": null,
   "metadata": {
    "collapsed": false
   },
   "outputs": [],
   "source": [
    "filenames = ['{1}/person_data_{0}.csv.gz'.format(lang, target_folder) for lang in languages]"
   ]
  },
  {
   "cell_type": "markdown",
   "metadata": {},
   "source": [
    "### Person DataFrame\n",
    "\n",
    "We will create a single dataframe with all the editions."
   ]
  },
  {
   "cell_type": "code",
   "execution_count": null,
   "metadata": {
    "collapsed": false
   },
   "outputs": [],
   "source": [
    "all_bios = None\n",
    "for lang, filename in zip(languages, filenames):\n",
    "    this_edition = pd.read_csv(filename, encoding='utf-8')\n",
    "    this_edition['language'] = lang\n",
    "    \n",
    "    if all_bios is None:\n",
    "        all_bios = this_edition\n",
    "    else:\n",
    "        all_bios = pd.concat([all_bios, this_edition])\n",
    "        \n",
    "all_bios.language.value_counts()"
   ]
  },
  {
   "cell_type": "code",
   "execution_count": null,
   "metadata": {
    "collapsed": false
   },
   "outputs": [],
   "source": [
    "def w_fraction(arr):\n",
    "    #print arr\n",
    "    return np.sum(arr == 'female') / float(len(arr))\n",
    "\n",
    "col_labels = all_bios.groupby('language').aggregate(\n",
    "    {'edition_count': lambda x: len(x), 'gender': w_fraction, 'available_english': np.mean}\n",
    "    ).sort('edition_count', ascending=False)\n",
    "\n",
    "col_labels['female_median_count'] = [all_bios[(all_bios.language == idx) \n",
    "                                                 & (all_bios.gender == 'female')].edition_count.median()\n",
    "                                    for idx in col_labels.index]\n",
    "col_labels['male_median_count'] = [all_bios[(all_bios.language == idx) \n",
    "                                                 & (all_bios.gender == 'male')].edition_count.median()\n",
    "                                    for idx in col_labels.index]\n",
    "\n",
    "col_labels['female_mean_count'] = [all_bios[(all_bios.language == idx) \n",
    "                                                 & (all_bios.gender == 'female')].edition_count.mean()\n",
    "                                    for idx in col_labels.index]\n",
    "col_labels['male_mean_count'] = [all_bios[(all_bios.language == idx) \n",
    "                                                 & (all_bios.gender == 'male')].edition_count.mean()\n",
    "                                    for idx in col_labels.index]\n",
    "\n",
    "\n",
    "col_labels"
   ]
  },
  {
   "cell_type": "markdown",
   "metadata": {},
   "source": [
    "### Consolidations\n",
    "\n",
    "Let's remove duplicates and build a single dataset for all languages."
   ]
  },
  {
   "cell_type": "code",
   "execution_count": null,
   "metadata": {
    "collapsed": false
   },
   "outputs": [],
   "source": [
    "all_bios.drop_duplicates(subset=['same_as'], inplace=True)\n",
    "all_bios.drop_duplicates(subset=['wikidata_entity'], inplace=True)\n",
    "all_bios.drop_duplicates(subset=['label'], inplace=True)"
   ]
  },
  {
   "cell_type": "code",
   "execution_count": null,
   "metadata": {
    "collapsed": false
   },
   "outputs": [],
   "source": [
    "all_bios.gender.value_counts()"
   ]
  },
  {
   "cell_type": "code",
   "execution_count": null,
   "metadata": {
    "collapsed": true
   },
   "outputs": [],
   "source": [
    "all_bios = all_bios[all_bios.gender.isin(['male', 'female'])].copy()"
   ]
  },
  {
   "cell_type": "code",
   "execution_count": null,
   "metadata": {
    "collapsed": false
   },
   "outputs": [],
   "source": [
    "print(all_bios.shape)"
   ]
  },
  {
   "cell_type": "code",
   "execution_count": null,
   "metadata": {
    "collapsed": false
   },
   "outputs": [],
   "source": [
    "all_bios.gender.value_counts()"
   ]
  },
  {
   "cell_type": "code",
   "execution_count": null,
   "metadata": {
    "collapsed": false
   },
   "outputs": [],
   "source": [
    "all_bios.sample(n=5)"
   ]
  },
  {
   "cell_type": "code",
   "execution_count": null,
   "metadata": {
    "collapsed": false
   },
   "outputs": [],
   "source": [
    "with gzip.open('{0}/consolidated_person_data.csv.gz'.format(target_folder), 'wb') as f:\n",
    "    all_bios.to_csv(f, encoding='utf-8')"
   ]
  },
  {
   "cell_type": "code",
   "execution_count": null,
   "metadata": {
    "collapsed": true
   },
   "outputs": [],
   "source": []
  }
 ],
 "metadata": {
  "kernelspec": {
   "display_name": "Python 2",
   "language": "python",
   "name": "python2"
  },
  "language_info": {
   "codemirror_mode": {
    "name": "ipython",
    "version": 2
   },
   "file_extension": ".py",
   "mimetype": "text/x-python",
   "name": "python",
   "nbconvert_exporter": "python",
   "pygments_lexer": "ipython2",
   "version": "2.7.6"
  }
 },
 "nbformat": 4,
 "nbformat_minor": 0
}
