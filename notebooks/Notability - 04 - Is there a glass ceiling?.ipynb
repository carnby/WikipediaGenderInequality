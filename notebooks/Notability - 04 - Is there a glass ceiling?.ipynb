{
 "cells": [
  {
   "cell_type": "markdown",
   "metadata": {},
   "source": [
    "# Is there a Glass Ceiling in Wikipedia?\n",
    "\n",
    "In this notebook we evaluate the presence of a glass ceiling (i.e., women need to be more notable than men to be able to appear on Wikipedia) by comparing notability between genders using statistical analysis (through the `statsmodels` package). Notability is defined as the number of editions a biography appears in. Additionally, we control by time and person class based on the DBpedia ontology.\n",
    "\n",
    "By [Eduardo Graells-Garrido](http://carnby.github.io)."
   ]
  },
  {
   "cell_type": "code",
   "execution_count": null,
   "metadata": {
    "collapsed": false
   },
   "outputs": [],
   "source": [
    "from __future__ import division\n",
    "\n",
    "import pandas as pd\n",
    "import seaborn as sns\n",
    "import matplotlib.pyplot as plt\n",
    "import numpy as np\n",
    "import powerlaw\n",
    "import dbpedia_config\n",
    "\n",
    "%matplotlib inline\n",
    "sns.set(context='poster', font_scale=0.8, font='Source Code Pro', style='whitegrid')"
   ]
  },
  {
   "cell_type": "code",
   "execution_count": null,
   "metadata": {
    "collapsed": true
   },
   "outputs": [],
   "source": [
    "target_folder = dbpedia_config.TARGET_FOLDER"
   ]
  },
  {
   "cell_type": "code",
   "execution_count": null,
   "metadata": {
    "collapsed": false
   },
   "outputs": [],
   "source": [
    "data = pd.read_csv('{0}/consolidated_person_data.csv.gz'.format(target_folder), encoding='utf-8')\n",
    "data.head()"
   ]
  },
  {
   "cell_type": "code",
   "execution_count": null,
   "metadata": {
    "collapsed": false
   },
   "outputs": [],
   "source": [
    "data.shape"
   ]
  },
  {
   "cell_type": "code",
   "execution_count": null,
   "metadata": {
    "collapsed": false
   },
   "outputs": [],
   "source": [
    "data.wikidata_entity.describe()"
   ]
  },
  {
   "cell_type": "code",
   "execution_count": null,
   "metadata": {
    "collapsed": false
   },
   "outputs": [],
   "source": [
    "data.available_english.value_counts()"
   ]
  },
  {
   "cell_type": "code",
   "execution_count": null,
   "metadata": {
    "collapsed": false
   },
   "outputs": [],
   "source": [
    "data.rename(columns={'class': 'dbpedia_class'}, inplace=True)"
   ]
  },
  {
   "cell_type": "code",
   "execution_count": null,
   "metadata": {
    "collapsed": false
   },
   "outputs": [],
   "source": [
    "data.dbpedia_class.value_counts()"
   ]
  },
  {
   "cell_type": "code",
   "execution_count": null,
   "metadata": {
    "collapsed": false
   },
   "outputs": [],
   "source": [
    "data['century'] = np.floor(data.birth_year / 100.0)"
   ]
  },
  {
   "cell_type": "code",
   "execution_count": null,
   "metadata": {
    "collapsed": false
   },
   "outputs": [],
   "source": [
    "data['birth_decade'] = np.floor(data.birth_year / 10.0)\n",
    "data['birth_decade'].describe()"
   ]
  },
  {
   "cell_type": "code",
   "execution_count": null,
   "metadata": {
    "collapsed": false
   },
   "outputs": [],
   "source": [
    "data.century.describe()"
   ]
  },
  {
   "cell_type": "code",
   "execution_count": null,
   "metadata": {
    "collapsed": false
   },
   "outputs": [],
   "source": [
    "valid_data = data[~pd.isnull(data.birth_year) & (data.birth_year <= 2015) & (data.birth_year >= 0)]\n",
    "valid_data.shape"
   ]
  },
  {
   "cell_type": "code",
   "execution_count": null,
   "metadata": {
    "collapsed": true
   },
   "outputs": [],
   "source": [
    "sample = valid_data"
   ]
  },
  {
   "cell_type": "code",
   "execution_count": null,
   "metadata": {
    "collapsed": false
   },
   "outputs": [],
   "source": [
    "sample.gender.value_counts() / sample.gender.value_counts().sum()"
   ]
  },
  {
   "cell_type": "code",
   "execution_count": null,
   "metadata": {
    "collapsed": false
   },
   "outputs": [],
   "source": [
    "sample.available_english.value_counts()"
   ]
  },
  {
   "cell_type": "code",
   "execution_count": null,
   "metadata": {
    "collapsed": false
   },
   "outputs": [],
   "source": [
    "sample.birth_year.describe()"
   ]
  },
  {
   "cell_type": "code",
   "execution_count": null,
   "metadata": {
    "collapsed": true
   },
   "outputs": [],
   "source": [
    "sample = valid_data\n",
    "split_year = 1900\n",
    "pre_group = sample[sample.birth_year < split_year]\n",
    "post_group = sample[sample.birth_year >= split_year]"
   ]
  },
  {
   "cell_type": "code",
   "execution_count": null,
   "metadata": {
    "collapsed": false
   },
   "outputs": [],
   "source": [
    "pre_group.shape, post_group.shape"
   ]
  },
  {
   "cell_type": "code",
   "execution_count": null,
   "metadata": {
    "collapsed": false
   },
   "outputs": [],
   "source": [
    "pre_group.gender.value_counts() / pre_group.shape[0]"
   ]
  },
  {
   "cell_type": "code",
   "execution_count": null,
   "metadata": {
    "collapsed": false
   },
   "outputs": [],
   "source": [
    "post_group.gender.value_counts() / post_group.shape[0]"
   ]
  },
  {
   "cell_type": "code",
   "execution_count": null,
   "metadata": {
    "collapsed": false
   },
   "outputs": [],
   "source": [
    "fit_pre_f = powerlaw.Fit(pre_group.edition_count[pre_group.gender == 'female'], fit_method='KS', discrete=True)\n",
    "fit_post_f = powerlaw.Fit(post_group.edition_count[post_group.gender == 'female'], fit_method='KS', discrete=True)\n",
    "fit_pre_f.power_law.alpha, 2.0 * fit_pre_f.power_law.sigma, fit_post_f.power_law.alpha, 2.0 * fit_post_f.power_law.sigma"
   ]
  },
  {
   "cell_type": "code",
   "execution_count": null,
   "metadata": {
    "collapsed": false
   },
   "outputs": [],
   "source": [
    "fit_pre_f.power_law.D, fit_post_f.power_law.D"
   ]
  },
  {
   "cell_type": "code",
   "execution_count": null,
   "metadata": {
    "collapsed": false
   },
   "outputs": [],
   "source": [
    "fit_pre_f.distribution_compare('power_law', 'exponential'), fit_post_f.distribution_compare('power_law', 'exponential') "
   ]
  },
  {
   "cell_type": "code",
   "execution_count": null,
   "metadata": {
    "collapsed": false
   },
   "outputs": [],
   "source": [
    "fit_pre_m = powerlaw.Fit(pre_group.edition_count[pre_group.gender == 'male'], fit_method='KS', discrete=True)\n",
    "fit_post_m = powerlaw.Fit(post_group.edition_count[post_group.gender == 'male'], fit_method='KS', discrete=True)\n",
    "fit_pre_m.power_law.alpha, 2.0 * fit_pre_m.power_law.sigma, fit_post_m.power_law.alpha, 2.0 * fit_post_m.power_law.sigma"
   ]
  },
  {
   "cell_type": "code",
   "execution_count": null,
   "metadata": {
    "collapsed": false
   },
   "outputs": [],
   "source": [
    "fit_pre_m.power_law.D, fit_post_m.power_law.D"
   ]
  },
  {
   "cell_type": "code",
   "execution_count": null,
   "metadata": {
    "collapsed": false
   },
   "outputs": [],
   "source": [
    "fit_pre_m.distribution_compare('power_law', 'exponential'), fit_post_m.distribution_compare('power_law', 'exponential') "
   ]
  },
  {
   "cell_type": "code",
   "execution_count": null,
   "metadata": {
    "collapsed": false
   },
   "outputs": [],
   "source": [
    "plt.figure(figsize=(16,6))\n",
    "\n",
    "plt.subplot(121)\n",
    "\n",
    "fit_pre_f.power_law.plot_pdf(label='Women (fit, $\\\\alpha = {0:.2f}$)'.format(fit_pre_f.power_law.alpha))\n",
    "fit_pre_f.plot_pdf(linear_bins=True, linestyle='none', marker='.', label='Women')\n",
    "\n",
    "fit_pre_m.power_law.plot_pdf(label='Men (fit, $\\\\alpha = {0:.2f}$)'.format(fit_pre_m.alpha))\n",
    "fit_pre_m.plot_pdf(linear_bins=True, linestyle='none', marker='.', label='Men')\n",
    "\n",
    "plt.legend()\n",
    "plt.title('Before {0}'.format(split_year))\n",
    "plt.xlabel('Edition Count')\n",
    "plt.ylabel('$p(x)$')\n",
    "plt.xlim([1, 150])\n",
    "\n",
    "plt.subplot(122)\n",
    "\n",
    "fit_post_f.power_law.plot_pdf(label='Women (fit, $\\\\alpha = {0:.2f}$)'.format(fit_post_f.power_law.alpha))\n",
    "fit_post_f.plot_pdf(linear_bins=True, linestyle='none', marker='.', label='Women')\n",
    "\n",
    "fit_post_m.power_law.plot_pdf(label='Men (fit, $\\\\alpha = {0:.2f}$)'.format(fit_post_m.power_law.alpha))\n",
    "fit_post_m.plot_pdf(linear_bins=True, linestyle='none', marker='.', label='Men')\n",
    "\n",
    "plt.legend()\n",
    "plt.title('{0} -- Present'.format(split_year))\n",
    "plt.xlabel('Edition Count')\n",
    "plt.ylabel('$p(x)$')\n",
    "\n",
    "plt.xlim([1, 150])"
   ]
  },
  {
   "cell_type": "code",
   "execution_count": null,
   "metadata": {
    "collapsed": false
   },
   "outputs": [],
   "source": [
    "plt.figure(figsize=(16,6))\n",
    "\n",
    "plt.subplot(121)\n",
    "\n",
    "fit_pre_f.plot_ccdf(linestyle='none', marker='.', label='Women')\n",
    "fit_pre_m.plot_ccdf(linestyle='none', marker='.', label='Men')\n",
    "plt.xlabel('Edition Count')\n",
    "plt.ylabel('$p(x \\geq X)$')\n",
    "plt.legend()\n",
    "plt.title('Before {0}'.format(split_year))\n",
    "\n",
    "plt.subplot(122)\n",
    "\n",
    "fit_post_f.plot_ccdf(linestyle='none', marker='.', label='Women')\n",
    "fit_post_m.plot_ccdf(linestyle='none', marker='.', label='Men')\n",
    "plt.xlabel('Edition Count')\n",
    "plt.ylabel('$p(x \\geq X)$')\n",
    "plt.legend()\n",
    "plt.title('{0} -- Present'.format(split_year))"
   ]
  },
  {
   "cell_type": "code",
   "execution_count": null,
   "metadata": {
    "collapsed": false
   },
   "outputs": [],
   "source": [
    "plt.figure(figsize=(16,6))\n",
    "\n",
    "plt.subplot(121)\n",
    "\n",
    "rank_m_pre = pre_group[pre_group.gender == 'male'].edition_count.sort(ascending=False, inplace=False)\n",
    "rank_f_pre = pre_group[pre_group.gender == 'female'].edition_count.sort(ascending=False, inplace=False)\n",
    "\n",
    "plt.plot(np.arange(rank_m_pre.shape[0], dtype=np.float) / rank_m_pre.shape[0] + 0.001, rank_m_pre, label='Men', linestyle='none', marker='.', alpha=0.5)\n",
    "plt.plot(np.arange(rank_f_pre.shape[0], dtype=np.float) / rank_f_pre.shape[0] + 0.001, rank_f_pre, label='Women', linestyle='none', marker='.', alpha=0.5)\n",
    "plt.xlabel('Normalized Rank')\n",
    "plt.ylabel('# of Editions')\n",
    "plt.yscale('log')\n",
    "plt.xscale('log')\n",
    "plt.legend()\n",
    "plt.title('Pre {0}'.format(split_year))\n",
    "plt.xlim([0.001, 1.001])\n",
    "\n",
    "plt.subplot(122)\n",
    "\n",
    "rank_m_post = post_group[post_group.gender == 'male'].edition_count.sort(ascending=False, inplace=False)\n",
    "rank_f_post = post_group[post_group.gender == 'female'].edition_count.sort(ascending=False, inplace=False)\n",
    "\n",
    "plt.plot(np.arange(rank_m_post.shape[0], dtype=np.float) / rank_m_post.shape[0] + 0.001, rank_m_post, label='Men', linestyle='none', marker='.', alpha=0.75)\n",
    "plt.plot(np.arange(rank_f_post.shape[0], dtype=np.float) / rank_f_post.shape[0] + 0.001, rank_f_post, label='Women', linestyle='none', marker='.', alpha=0.75)\n",
    "\n",
    "plt.xlabel('Normalized Rank')\n",
    "plt.ylabel('# of Editions')\n",
    "plt.yscale('log')\n",
    "plt.xscale('log')\n",
    "plt.legend()\n",
    "plt.title('{0} -- Present'.format(split_year))\n",
    "plt.xlim([0.001, 1.001])"
   ]
  },
  {
   "cell_type": "markdown",
   "metadata": {},
   "source": [
    "## Regressions"
   ]
  },
  {
   "cell_type": "code",
   "execution_count": null,
   "metadata": {
    "collapsed": false
   },
   "outputs": [],
   "source": [
    "from statsmodels.formula.api import negativebinomial"
   ]
  },
  {
   "cell_type": "code",
   "execution_count": null,
   "metadata": {
    "collapsed": false,
    "scrolled": false
   },
   "outputs": [],
   "source": [
    "m = negativebinomial(\"edition_count ~ C(gender,Treatment(reference='male')) + C(dbpedia_class,Treatment(reference='http://dbpedia.org/ontology/Person')) + birth_decade\", \n",
    "        data=sample).fit_regularized()\n",
    "m.summary()"
   ]
  },
  {
   "cell_type": "code",
   "execution_count": null,
   "metadata": {
    "collapsed": false
   },
   "outputs": [],
   "source": [
    "pre_group.shape[0] / sample.shape[0]"
   ]
  },
  {
   "cell_type": "code",
   "execution_count": null,
   "metadata": {
    "collapsed": false
   },
   "outputs": [],
   "source": [
    "pre_group.century.describe()"
   ]
  },
  {
   "cell_type": "code",
   "execution_count": null,
   "metadata": {
    "collapsed": false,
    "scrolled": false
   },
   "outputs": [],
   "source": [
    "m_pre = negativebinomial(\"edition_count ~ C(gender,Treatment(reference='male')) + C(dbpedia_class,Treatment(reference='http://dbpedia.org/ontology/Person')) + birth_decade\", \n",
    "        data=pre_group, missing='raise').fit_regularized()\n",
    "m_pre.summary()"
   ]
  },
  {
   "cell_type": "code",
   "execution_count": null,
   "metadata": {
    "collapsed": false,
    "scrolled": false
   },
   "outputs": [],
   "source": [
    "m_post = negativebinomial(\"edition_count ~ C(gender,Treatment(reference='male')) + C(dbpedia_class,Treatment(reference='http://dbpedia.org/ontology/Person')) + birth_decade\", \n",
    "        data=post_group).fit_regularized()\n",
    "m_post.summary()"
   ]
  },
  {
   "cell_type": "code",
   "execution_count": null,
   "metadata": {
    "collapsed": false
   },
   "outputs": [],
   "source": [
    "#summary = m_post.summary()\n",
    "#print summary.as_latex().replace('http://dbpedia.org/ontology/', '').replace('_', '\\_').replace(\n",
    "#    \", Treatment(reference='Person')\", '').replace(\", Treatment(reference='male')\", '').replace(\n",
    "#    '\\\\textbf{', '').replace('}', '').replace('0.000', '$< 0.001$')"
   ]
  },
  {
   "cell_type": "code",
   "execution_count": null,
   "metadata": {
    "collapsed": false
   },
   "outputs": [],
   "source": [
    "pd.set_option('max_colwidth', 1000)"
   ]
  },
  {
   "cell_type": "code",
   "execution_count": null,
   "metadata": {
    "collapsed": false
   },
   "outputs": [],
   "source": [
    "table = pd.concat([m_pre.params.to_frame(), m_pre.bse.to_frame(), m_pre.pvalues, \n",
    "                   m_post.params.to_frame(), m_post.bse.to_frame(), m_post.pvalues,\n",
    "                   m.params.to_frame(), m.bse.to_frame(), m.pvalues], axis=1, ignore_index=False)\n",
    "print table.to_latex(float_format=lambda x: '{0:.3f}'.format(x)).replace('http://dbpedia.org/ontology/', '').replace('_', '\\_').replace(\n",
    "    \", Treatment(reference='Person')\", '').replace(\", Treatment(reference='male')\", '').replace(\n",
    "    '\\\\textbf{', '').replace('}', '').replace('0.000', '$^{***}$').replace('dbpedia\\\\\\\\_class', 'class').replace('nan', '--')"
   ]
  },
  {
   "cell_type": "code",
   "execution_count": null,
   "metadata": {
    "collapsed": false,
    "scrolled": false
   },
   "outputs": [],
   "source": [
    "table"
   ]
  },
  {
   "cell_type": "code",
   "execution_count": null,
   "metadata": {
    "collapsed": false
   },
   "outputs": [],
   "source": [
    "pd.concat([np.exp(m_pre.params.to_frame()), np.exp(m_post.params.to_frame()), np.exp(m.params.to_frame())], \n",
    "          axis=1, ignore_index=True)"
   ]
  },
  {
   "cell_type": "code",
   "execution_count": null,
   "metadata": {
    "collapsed": false
   },
   "outputs": [],
   "source": [
    "def deviance(m):\n",
    "    return m.bic + m.df_resid * np.log(m.nobs)\n",
    "\n",
    "print('AIC & \\multicolumn{{3}}{{c|}}{{{0:.3f}}}  & \\multicolumn{{3}}{{c|}}{{{1:.3f}}} & \\multicolumn{{3}}{{c|}}{{{2:.3f}}}'.format(m_pre.aic, m_post.aic, m.aic))\n",
    "print('BIC & \\multicolumn{{3}}{{c|}}{{{0:.3f}}}  & \\multicolumn{{3}}{{c|}}{{{1:.3f}}} & \\multicolumn{{3}}{{c|}}{{{2:.3f}}}'.format(m_pre.bic, m_post.bic, m.bic))\n",
    "print('Log-Likelihood & \\multicolumn{{3}}{{c|}}{{{0:.3f}}}  & \\multicolumn{{3}}{{c|}}{{{1:.3f}}} & \\multicolumn{{3}}{{c|}}{{{2:.3f}}}'.format(m_pre.llf, m_post.llf, m.llf))\n",
    "print('Deviance & \\multicolumn{{3}}{{c|}}{{{0:.3f}}}  & \\multicolumn{{3}}{{c|}}{{{1:.3f}}} & \\multicolumn{{3}}{{c|}}{{{2:.3f}}}'.format(deviance(m_pre), deviance(m_post), deviance(m)))\n",
    "print('LL Ratio & \\multicolumn{{3}}{{c|}}{{{0:.3f}}}  & \\multicolumn{{3}}{{c|}}{{{1:.3f}}} & \\multicolumn{{3}}{{c|}}{{{2:.3f}}}'.format(m_pre.llr, m_post.llr, m.llr))\n",
    "print('N & \\multicolumn{{3}}{{c|}}{{{0:.3f}}}  & \\multicolumn{{3}}{{c|}}{{{1:.3f}}} & \\multicolumn{{3}}{{c|}}{{{2:.3f}}}'.format(m_pre.nobs, m_post.nobs, m.nobs))"
   ]
  },
  {
   "cell_type": "code",
   "execution_count": null,
   "metadata": {
    "collapsed": false
   },
   "outputs": [],
   "source": []
  }
 ],
 "metadata": {
  "kernelspec": {
   "display_name": "Python 2",
   "language": "python",
   "name": "python2"
  },
  "language_info": {
   "codemirror_mode": {
    "name": "ipython",
    "version": 2
   },
   "file_extension": ".py",
   "mimetype": "text/x-python",
   "name": "python",
   "nbconvert_exporter": "python",
   "pygments_lexer": "ipython2",
   "version": "2.7.6"
  }
 },
 "nbformat": 4,
 "nbformat_minor": 0
}
