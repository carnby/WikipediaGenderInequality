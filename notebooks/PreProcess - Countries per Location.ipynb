{
 "cells": [
  {
   "cell_type": "markdown",
   "metadata": {},
   "source": [
    "# Toponyms and their Countries\n",
    "\n",
    "By Eduardo Graells-Garrido.\n",
    "\n",
    "In this notebook we generate a dictionary of {place_uri => country_uri} so in other notebooks, when we need to determine the country of origin of a biography, we do not have to parse the entire database again looking for this information.\n",
    "\n",
    "The result is one dictionary per each language. Equivalences between languages have not been resolved yet."
   ]
  },
  {
   "cell_type": "code",
   "execution_count": null,
   "metadata": {
    "collapsed": true
   },
   "outputs": [],
   "source": [
    "from __future__ import print_function, unicode_literals\n",
    "import gzip\n",
    "import dbpedia_config\n",
    "import ujson as json\n",
    "import os\n",
    "import networkx as nx\n",
    "import rdflib.graph as rdf\n",
    "\n",
    "from dbpedia_utils import iter_entities_from"
   ]
  },
  {
   "cell_type": "code",
   "execution_count": null,
   "metadata": {
    "collapsed": true
   },
   "outputs": [],
   "source": [
    "data_folder = dbpedia_config.DATA_FOLDER\n",
    "target_folder = dbpedia_config.TARGET_FOLDER\n",
    "languages = dbpedia_config.LANGUAGES"
   ]
  },
  {
   "cell_type": "code",
   "execution_count": null,
   "metadata": {
    "collapsed": true
   },
   "outputs": [],
   "source": [
    "with open('{0}/dbpedia.owl'.format(data_folder), 'r') as f:\n",
    "    ontology = rdf.Graph().parse(f)"
   ]
  },
  {
   "cell_type": "code",
   "execution_count": null,
   "metadata": {
    "collapsed": true
   },
   "outputs": [],
   "source": [
    "ontology_graph = nx.DiGraph()\n",
    "\n",
    "for s, p, o in ontology:\n",
    "    src = str(s)\n",
    "    attr = str(p)\n",
    "    dst = str(o)\n",
    "    #print(s, p, o)\n",
    "\n",
    "    if attr == 'http://www.w3.org/2000/01/rdf-schema#subClassOf':\n",
    "        ontology_graph.add_edge(dst, src)"
   ]
  },
  {
   "cell_type": "code",
   "execution_count": null,
   "metadata": {
    "collapsed": false
   },
   "outputs": [],
   "source": [
    "place_classes = nx.descendants(ontology_graph, 'http://dbpedia.org/ontology/PopulatedPlace')\n",
    "place_classes.add('http://dbpedia.org/ontology/PopulatedPlace')\n",
    "place_classes"
   ]
  },
  {
   "cell_type": "code",
   "execution_count": null,
   "metadata": {
    "collapsed": true
   },
   "outputs": [],
   "source": [
    "def create_country_dictionary(language):\n",
    "    instance_types = '{1}/instance_types_{0}.ttl.bz2'.format(language, data_folder)\n",
    "    properties = '{1}/mappingbased_objects_{0}.ttl.bz2'.format(language, data_folder)\n",
    "\n",
    "    print(instance_types)\n",
    "    country_names = set()\n",
    "    places = set()\n",
    "    \n",
    "    for i, ent in enumerate(iter_entities_from(instance_types)):\n",
    "        if 'http://dbpedia.org/ontology/Country' in ent['22-rdf-syntax-ns#type']:\n",
    "            country_names.add(ent['resource'])\n",
    "\n",
    "        if place_classes.intersection(ent['22-rdf-syntax-ns#type']):\n",
    "            places.add(ent['resource'])\n",
    "        \n",
    "    print(len(country_names), len(places))\n",
    "\n",
    "    countries = {}\n",
    "\n",
    "    for i, ent in enumerate(iter_entities_from(properties)):\n",
    "        resource = ent['resource']\n",
    "\n",
    "        if resource not in places:\n",
    "            continue\n",
    "            \n",
    "        if 'country' not in ent:\n",
    "            continue\n",
    "        \n",
    "        try:\n",
    "            c = next((ent['country'] & country_names).__iter__())\n",
    "        except StopIteration:\n",
    "            # doesn't have a valid country URI attribute\n",
    "            continue\n",
    "\n",
    "        countries[resource] = c\n",
    "\n",
    "    print(len(countries))\n",
    "\n",
    "    with gzip.open('{0}/countries_{1}.json.gz'.format(target_folder, language), 'wt') as f:\n",
    "        json.dump(countries, f)"
   ]
  },
  {
   "cell_type": "code",
   "execution_count": null,
   "metadata": {
    "collapsed": false
   },
   "outputs": [],
   "source": [
    "for lang in languages:\n",
    "    if not os.path.exists('{0}/countries_{1}.json.gz'.format(target_folder, lang)):\n",
    "        create_country_dictionary(lang)\n",
    "    else:\n",
    "        print(lang, 'already exists')"
   ]
  },
  {
   "cell_type": "code",
   "execution_count": null,
   "metadata": {
    "collapsed": true
   },
   "outputs": [],
   "source": []
  }
 ],
 "metadata": {
  "kernelspec": {
   "display_name": "Python 3",
   "language": "python",
   "name": "python3"
  },
  "language_info": {
   "codemirror_mode": {
    "name": "ipython",
    "version": 3
   },
   "file_extension": ".py",
   "mimetype": "text/x-python",
   "name": "python",
   "nbconvert_exporter": "python",
   "pygments_lexer": "ipython3",
   "version": "3.4.3"
  }
 },
 "nbformat": 4,
 "nbformat_minor": 0
}
